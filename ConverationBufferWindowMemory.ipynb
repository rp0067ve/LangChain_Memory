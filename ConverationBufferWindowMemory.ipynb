{
 "cells": [
  {
   "cell_type": "markdown",
   "id": "728f1747-b8fc-4d31-96c2-047fc83c079d",
   "metadata": {},
   "source": [
    "#  ConversationBufferWindowMemory"
   ]
  },
  {
   "cell_type": "code",
   "execution_count": 1,
   "id": "261e60bc-9653-4acf-91fe-d088f49d494a",
   "metadata": {},
   "outputs": [],
   "source": [
    "from langchain.chat_models import ChatOpenAI\n",
    "from langchain.chains import ConversationChain\n",
    "from langchain.memory import ConversationBufferMemory\n",
    "from langchain.memory import ConversationBufferWindowMemory"
   ]
  },
  {
   "cell_type": "code",
   "execution_count": 3,
   "id": "6c8bde2d",
   "metadata": {},
   "outputs": [],
   "source": [
    "import os\n",
    "f = open('/Users/koichirosuzuki/Desktop/desktop_openai.txt')\n",
    "os.environ['OPENAI_API_KEY'] = '?'\n",
    "api_key = f.read()"
   ]
  },
  {
   "cell_type": "code",
   "execution_count": 4,
   "id": "4c741139-a54e-46c9-af29-2ba64f914f15",
   "metadata": {},
   "outputs": [],
   "source": [
    "llm = ChatOpenAI(temperature=0.0)\n",
    "memory = ConversationBufferWindowMemory(k=1)"
   ]
  },
  {
   "cell_type": "markdown",
   "id": "bea4a9b5-e52c-44a1-a8c2-6d1c3eed2f1a",
   "metadata": {},
   "source": [
    "## Connect Conversation to Memory"
   ]
  },
  {
   "cell_type": "code",
   "execution_count": 5,
   "id": "ad3336a7-d2ff-4c7d-bd28-f55f45367608",
   "metadata": {},
   "outputs": [],
   "source": [
    "conversation = ConversationChain(\n",
    "    llm=llm, \n",
    "    memory = memory,\n",
    "    verbose=True\n",
    ")"
   ]
  },
  {
   "cell_type": "code",
   "execution_count": 19,
   "id": "c3443ca2-3ce9-4d4e-9775-c634e8b36832",
   "metadata": {},
   "outputs": [
    {
     "name": "stdout",
     "output_type": "stream",
     "text": [
      "\n",
      "\n",
      "\u001b[1m> Entering new ConversationChain chain...\u001b[0m\n",
      "Prompt after formatting:\n",
      "\u001b[32;1m\u001b[1;3mThe following is a friendly conversation between a human and an AI. The AI is talkative and provides lots of specific details from its context. If the AI does not know the answer to a question, it truthfully says it does not know.\n",
      "\n",
      "Current conversation:\n",
      "Human: Very Interesting.\n",
      "AI: Yes, it was my pleasure as an AI to answer.\n",
      "Human: Tell me a fact about Fukushima\n",
      "AI:\u001b[0m\n",
      "\n",
      "\u001b[1m> Finished chain.\u001b[0m\n"
     ]
    },
    {
     "data": {
      "text/plain": [
       "'Fukushima is a prefecture located in the Tohoku region of Japan. It is known for the Fukushima Daiichi nuclear power plant, which experienced a major nuclear accident following the 2011 Tōhoku earthquake and tsunami. The accident resulted in the release of radioactive materials and the evacuation of thousands of residents from the area.'"
      ]
     },
     "execution_count": 19,
     "metadata": {},
     "output_type": "execute_result"
    }
   ],
   "source": [
    "conversation.predict(input=\"Tell me a fact about Fukushima\")"
   ]
  },
  {
   "cell_type": "code",
   "execution_count": 20,
   "id": "dce17805-aa75-4f56-832b-12272b389210",
   "metadata": {},
   "outputs": [
    {
     "name": "stdout",
     "output_type": "stream",
     "text": [
      "Human: Tell me a fact about Fukushima\n",
      "AI: Fukushima is a prefecture located in the Tohoku region of Japan. It is known for the Fukushima Daiichi nuclear power plant, which experienced a major nuclear accident following the 2011 Tōhoku earthquake and tsunami. The accident resulted in the release of radioactive materials and the evacuation of thousands of residents from the area.\n"
     ]
    }
   ],
   "source": [
    "print(memory.buffer)"
   ]
  },
  {
   "cell_type": "code",
   "execution_count": 16,
   "id": "da9fe5b3-1b52-4611-bf67-ee81a251053f",
   "metadata": {},
   "outputs": [],
   "source": [
    "memory.save_context({\"input\": \"Very Interesting.\"}, \n",
    "                    {\"output\": \"Yes, it was my pleasure as an AI to answer.\"})"
   ]
  },
  {
   "cell_type": "code",
   "execution_count": 21,
   "id": "228792b0-afd2-46c3-bb5d-c3ed48fec31b",
   "metadata": {},
   "outputs": [
    {
     "data": {
      "text/plain": [
       "{'history': 'Human: Tell me a fact about Fukushima\\nAI: Fukushima is a prefecture located in the Tohoku region of Japan. It is known for the Fukushima Daiichi nuclear power plant, which experienced a major nuclear accident following the 2011 Tōhoku earthquake and tsunami. The accident resulted in the release of radioactive materials and the evacuation of thousands of residents from the area.'}"
      ]
     },
     "execution_count": 21,
     "metadata": {},
     "output_type": "execute_result"
    }
   ],
   "source": [
    "memory.load_memory_variables({})"
   ]
  },
  {
   "cell_type": "markdown",
   "id": "c830185f-9b6d-4083-a875-e9a03a305cb1",
   "metadata": {},
   "source": [
    "K is the limitation to number of exchanges!"
   ]
  }
 ],
 "metadata": {
  "kernelspec": {
   "display_name": "Python 3 (ipykernel)",
   "language": "python",
   "name": "python3"
  },
  "language_info": {
   "codemirror_mode": {
    "name": "ipython",
    "version": 3
   },
   "file_extension": ".py",
   "mimetype": "text/x-python",
   "name": "python",
   "nbconvert_exporter": "python",
   "pygments_lexer": "ipython3",
   "version": "3.10.9"
  }
 },
 "nbformat": 4,
 "nbformat_minor": 5
}
